{
 "cells": [
  {
   "cell_type": "code",
   "execution_count": 2,
   "metadata": {
    "collapsed": true
   },
   "outputs": [],
   "source": [
    "from networks import *\n",
    "from simulation import *\n",
    "from display import *\n",
    "import numpy as np\n",
    "from matplotlib import pyplot as plt\n",
    "import thinkplot\n",
    "\n",
    "%matplotlib inline"
   ]
  },
  {
   "cell_type": "code",
   "execution_count": 4,
   "metadata": {
    "collapsed": true
   },
   "outputs": [],
   "source": [
    "fb_g = load_graph('facebook_combined.txt.gz')\n",
    "ba_g = gen_BA_graph(4039, 22)"
   ]
  },
  {
   "cell_type": "code",
   "execution_count": 21,
   "metadata": {},
   "outputs": [
    {
     "name": "stdout",
     "output_type": "stream",
     "text": [
      "88234 88374\n",
      "4039 4039\n"
     ]
    }
   ],
   "source": [
    "print(fb_g.number_of_edges(), ba_g.number_of_edges())\n",
    "print(fb_g.number_of_nodes(), ba_g.number_of_nodes())"
   ]
  },
  {
   "cell_type": "code",
   "execution_count": 37,
   "metadata": {},
   "outputs": [
    {
     "name": "stdout",
     "output_type": "stream",
     "text": [
      "0.214148166488\n",
      "0.230587879288\n"
     ]
    }
   ],
   "source": [
    "print(np.mean(run_SIS_simulation(fb_g, 0.3, rho_0=None, time_steps=100)[10:]))\n",
    "print(np.mean(run_SIS_simulation(ba_g, 0.3, rho_0=None, time_steps=100)[10:]))\n",
    "# run_SIS_simulation(fb_g, 0.3, time_steps=1000)\n",
    "# run_SIS_simulation(fb_g, 0.3, time_steps=2000)\n",
    "# run_SIS_simulation(ba_g, 0.3, rho_0=None, time_steps=100)"
   ]
  },
  {
   "cell_type": "code",
   "execution_count": null,
   "metadata": {
    "collapsed": true
   },
   "outputs": [],
   "source": [
    "# Experiment 1"
   ]
  },
  {
   "cell_type": "code",
   "execution_count": 8,
   "metadata": {},
   "outputs": [
    {
     "name": "stdout",
     "output_type": "stream",
     "text": [
      "starting lambda:  0.142857142857\n",
      "starting lambda:  0.137730690362\n",
      "starting lambda:  0.132604237867\n",
      "starting lambda:  0.127477785373\n",
      "starting lambda:  0.122351332878\n",
      "starting lambda:  0.117224880383\n",
      "starting lambda:  0.112098427888\n",
      "starting lambda:  0.106971975393\n",
      "starting lambda:  0.101845522898\n",
      "starting lambda:  0.0967190704033\n",
      "starting lambda:  0.0915926179084\n",
      "starting lambda:  0.0864661654135\n",
      "starting lambda:  0.0813397129187\n",
      "starting lambda:  0.0762132604238\n",
      "starting lambda:  0.0710868079289\n",
      "starting lambda:  0.065960355434\n",
      "starting lambda:  0.0608339029392\n",
      "starting lambda:  0.0557074504443\n",
      "starting lambda:  0.0505809979494\n",
      "starting lambda:  0.0454545454545\n"
     ]
    },
    {
     "data": {
      "text/plain": [
       "[0.10217628125773706,\n",
       " 0.09754147066105473,\n",
       " 0.094773458776924974,\n",
       " 0.089489972765535997,\n",
       " 0.085823223570190663,\n",
       " 0.081099282000495168,\n",
       " 0.076684822975984168,\n",
       " 0.072146570933399351,\n",
       " 0.069237435008665513,\n",
       " 0.064181728150532316,\n",
       " 0.060713047784104968,\n",
       " 0.05575885120079227,\n",
       " 0.05165635058182718,\n",
       " 0.047167615746471894,\n",
       " 0.042329784600148551,\n",
       " 0.037737063629611288,\n",
       " 0.032567467194850208,\n",
       " 0.027905422134191622,\n",
       " 0.023030453082446153,\n",
       " 0.019356276306016339]"
      ]
     },
     "execution_count": 8,
     "metadata": {},
     "output_type": "execute_result"
    }
   ],
   "source": [
    "trials = 100\n",
    "\n",
    "lambdas = np.linspace(1/7, 1/22, 20) # 20 points\n",
    "rhos = []\n",
    "\n",
    "for lam in lambdas:\n",
    "    print('starting lambda: ', lam)\n",
    "    trial_rhos = []\n",
    "    for trial in range(trials):\n",
    "        trial_rhos.append(run_SIS_simulation(fb_g, lam, time_steps=50)[-1])\n",
    "    rhos.append(np.mean(trial_rhos))\n",
    "\n",
    "# lambdas_plan = {\n",
    "#     1e5 : np.linspace(1/12, 1/8, 5),\n",
    "#     5e5 : np.linspace(1/15, 1/10, 3),\n",
    "#     1e6 : np.linspace(1/17, 1/12, 2),\n",
    "#     5e6 : np.linspace(1/18, 1/15, 2),\n",
    "#     8.5e6 : np.linspace(1/20, 1/19, 2),\n",
    "# #     8.5e6 : [1/20]\n",
    "# }\n",
    "\n",
    "# data = {}\n",
    "# for size in lambdas_plan.keys():\n",
    "#     print('starting size: ', size)\n",
    "#     for lam in lambdas_plan[size]:\n",
    "#         print('\\tstarting lamda: ', lam)\n",
    "#         data[(size, lam)] = []\n",
    "#         for trial in range(10):\n",
    "# #             print('t', trial)\n",
    "#             data[(size, lam)].append(run_SIS_simulation(g, lam, time_steps=20)[-1])\n",
    "#         data[(size, lam)] = np.mean(data[(size, lam)])\n",
    "rhos"
   ]
  },
  {
   "cell_type": "code",
   "execution_count": 14,
   "metadata": {
    "scrolled": true
   },
   "outputs": [
    {
     "name": "stdout",
     "output_type": "stream",
     "text": [
      "-0.112629516738\n"
     ]
    },
    {
     "data": {
      "image/png": "[encoded data removed]",
      "text/plain": [
       "<matplotlib.figure.Figure at 0x7eff5835ac18>"
      ]
     },
     "metadata": {},
     "output_type": "display_data"
    }
   ],
   "source": [
    "a, c = np.polyfit(1/lambdas, np.log(rhos), 1)\n",
    "fit_xs = np.linspace(7, 22 , 100)\n",
    "fit_ys = np.exp(a * fit_xs + c)\n",
    "thinkplot.plot(fit_xs, fit_ys, style='--', linewidth=1, color=(.4,.4,.4), alpha=1.0)\n",
    "\n",
    "\n",
    "# plot a \n",
    "shapes = ['o', '+', 's', 'x', 'v', '.']\n",
    "colors = [(1., 0., 0.), (1., .5, 0.), (.5, 1., 0.), (0., 1., 0.), (0., .9, .9)]\n",
    "\n",
    "thinkplot.plot(1/lambdas, rhos, style='^', color=colors[0], markersize=10, alpha=1.0)\n",
    "thinkplot.config(yscale='log', xlabel='1 / λ', ylabel='ρ (prevalence)')\n",
    "\n",
    "plt.savefig('figure3.png')\n",
    "print(a)"
   ]
  },
  {
   "cell_type": "code",
   "execution_count": 12,
   "metadata": {
    "collapsed": true
   },
   "outputs": [],
   "source": [
    "fb_degrees = [fb_g.degree(n) for n in fb_g.nodes()]\n",
    "ba_degrees = [ba_g.degree(n) for n in fb_g.nodes()]"
   ]
  },
  {
   "cell_type": "code",
   "execution_count": 18,
   "metadata": {},
   "outputs": [
    {
     "data": {
      "text/plain": [
       "<matplotlib.text.Text at 0x7f92c0d47940>"
      ]
     },
     "execution_count": 18,
     "metadata": {},
     "output_type": "execute_result"
    },
    {
     "data": {
      "image/png": "[encoded data removed]",
      "text/plain": [
       "<matplotlib.figure.Figure at 0x7f92c0e30390>"
      ]
     },
     "metadata": {},
     "output_type": "display_data"
    }
   ],
   "source": [
    "plt.hist(fb_degrees, color=(.26, .41, .69, .7))\n",
    "plt.hist(ba_degrees, color=(0, 1, 0, .5))\n",
    "plt.yscale('log')\n",
    "plt.xlabel('degree')\n",
    "plt.ylabel('nodes')\n",
    "plt.title('')\n",
    "# plt.xscale('log')\n",
    "# plt.ylim(0, 5000)"
   ]
  },
  {
   "cell_type": "code",
   "execution_count": null,
   "metadata": {
    "collapsed": true
   },
   "outputs": [],
   "source": []
  }
 ],
 "metadata": {
  "kernelspec": {
   "display_name": "Python 3",
   "language": "python",
   "name": "python3"
  },
  "language_info": {
   "codemirror_mode": {
    "name": "ipython",
    "version": 3
   },
   "file_extension": ".py",
   "mimetype": "text/x-python",
   "name": "python",
   "nbconvert_exporter": "python",
   "pygments_lexer": "ipython3",
   "version": "3.6.1"
  }
 },
 "nbformat": 4,
 "nbformat_minor": 2
}
